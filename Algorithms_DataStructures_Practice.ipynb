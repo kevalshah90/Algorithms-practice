{
 "cells": [
  {
   "cell_type": "markdown",
   "metadata": {},
   "source": [
    "Good coding practices, efficient code and relevant choices of libraries."
   ]
  },
  {
   "cell_type": "markdown",
   "metadata": {},
   "source": [
    " "
   ]
  },
  {
   "cell_type": "markdown",
   "metadata": {},
   "source": [
    "#### hourglass sum"
   ]
  },
  {
   "cell_type": "code",
   "execution_count": 1,
   "metadata": {},
   "outputs": [],
   "source": [
    "%matplotlib inline"
   ]
  },
  {
   "cell_type": "code",
   "execution_count": 1,
   "metadata": {},
   "outputs": [],
   "source": [
    "import numpy as np\n",
    "import pandas as pd\n",
    "import seaborn as sns\n",
    "import scipy as stats\n",
    "import matplotlib.pyplot as plt \n",
    "import os\n",
    "from datetime import date, datetime, timedelta\n",
    "import random\n",
    "import statistics\n",
    "from itertools import groupby\n",
    "\n",
    "import timeit\n",
    "from timeit import default_timer as timer"
   ]
  },
  {
   "cell_type": "code",
   "execution_count": 15,
   "metadata": {},
   "outputs": [],
   "source": [
    "arr = [[1, 1, 1, 0, 0, 0],\n",
    "       [0, 1, 0, 0, 0, 0],\n",
    "       [1, 1, 1, 0, 0, 0],\n",
    "       [0, 0, 2, 4, 4, 0],\n",
    "       [0, 0, 0, 2, 0, 0],\n",
    "       [0, 0, 1, 2, 4, 0]]"
   ]
  },
  {
   "cell_type": "code",
   "execution_count": 22,
   "metadata": {},
   "outputs": [
    {
     "data": {
      "text/plain": [
       "1"
      ]
     },
     "execution_count": 22,
     "metadata": {},
     "output_type": "execute_result"
    }
   ],
   "source": [
    "arr[1][1]"
   ]
  },
  {
   "cell_type": "code",
   "execution_count": 32,
   "metadata": {},
   "outputs": [
    {
     "ename": "IndexError",
     "evalue": "list index out of range",
     "output_type": "error",
     "traceback": [
      "\u001b[0;31m---------------------------------------------------------------------------\u001b[0m",
      "\u001b[0;31mIndexError\u001b[0m                                Traceback (most recent call last)",
      "\u001b[0;32m<ipython-input-32-896ebb2f4e7e>\u001b[0m in \u001b[0;36m<module>\u001b[0;34m()\u001b[0m\n\u001b[1;32m     25\u001b[0m     \u001b[0;32mfor\u001b[0m \u001b[0mj\u001b[0m \u001b[0;32min\u001b[0m \u001b[0mrange\u001b[0m\u001b[0;34m(\u001b[0m\u001b[0;36m0\u001b[0m\u001b[0;34m,\u001b[0m\u001b[0;36m4\u001b[0m\u001b[0;34m)\u001b[0m\u001b[0;34m:\u001b[0m\u001b[0;34m\u001b[0m\u001b[0m\n\u001b[1;32m     26\u001b[0m \u001b[0;34m\u001b[0m\u001b[0m\n\u001b[0;32m---> 27\u001b[0;31m         \u001b[0mresult\u001b[0m \u001b[0;34m=\u001b[0m \u001b[0mhourglassSum\u001b[0m\u001b[0;34m(\u001b[0m\u001b[0marr\u001b[0m\u001b[0;34m,\u001b[0m \u001b[0mi\u001b[0m\u001b[0;34m,\u001b[0m \u001b[0mj\u001b[0m\u001b[0;34m)\u001b[0m\u001b[0;34m\u001b[0m\u001b[0m\n\u001b[0m\u001b[1;32m     28\u001b[0m \u001b[0;34m\u001b[0m\u001b[0m\n\u001b[1;32m     29\u001b[0m         \u001b[0mresult1\u001b[0m \u001b[0;34m=\u001b[0m \u001b[0mresult1\u001b[0m\u001b[0;34m.\u001b[0m\u001b[0mappend\u001b[0m\u001b[0;34m(\u001b[0m\u001b[0mresult\u001b[0m\u001b[0;34m)\u001b[0m\u001b[0;34m\u001b[0m\u001b[0m\n",
      "\u001b[0;32m<ipython-input-32-896ebb2f4e7e>\u001b[0m in \u001b[0;36mhourglassSum\u001b[0;34m(arr, i, j)\u001b[0m\n\u001b[1;32m      4\u001b[0m     \u001b[0msumm\u001b[0m \u001b[0;34m=\u001b[0m \u001b[0;36m0\u001b[0m\u001b[0;34m\u001b[0m\u001b[0m\n\u001b[1;32m      5\u001b[0m \u001b[0;34m\u001b[0m\u001b[0m\n\u001b[0;32m----> 6\u001b[0;31m     \u001b[0msumm\u001b[0m \u001b[0;34m+=\u001b[0m \u001b[0marr\u001b[0m\u001b[0;34m[\u001b[0m\u001b[0mi\u001b[0m\u001b[0;34m]\u001b[0m\u001b[0;34m[\u001b[0m\u001b[0mj\u001b[0m\u001b[0;34m]\u001b[0m \u001b[0;34m+\u001b[0m \u001b[0marr\u001b[0m\u001b[0;34m[\u001b[0m\u001b[0mi\u001b[0m\u001b[0;34m]\u001b[0m\u001b[0;34m[\u001b[0m\u001b[0mj\u001b[0m\u001b[0;34m+\u001b[0m\u001b[0;36m1\u001b[0m\u001b[0;34m]\u001b[0m \u001b[0;34m+\u001b[0m \u001b[0marr\u001b[0m\u001b[0;34m[\u001b[0m\u001b[0mi\u001b[0m\u001b[0;34m]\u001b[0m\u001b[0;34m[\u001b[0m\u001b[0mj\u001b[0m\u001b[0;34m+\u001b[0m\u001b[0;36m2\u001b[0m\u001b[0;34m]\u001b[0m\u001b[0;34m\u001b[0m\u001b[0m\n\u001b[0m\u001b[1;32m      7\u001b[0m     \u001b[0msumm\u001b[0m \u001b[0;34m+=\u001b[0m \u001b[0marr\u001b[0m\u001b[0;34m[\u001b[0m\u001b[0mi\u001b[0m\u001b[0;34m+\u001b[0m\u001b[0;36m2\u001b[0m\u001b[0;34m]\u001b[0m\u001b[0;34m[\u001b[0m\u001b[0mj\u001b[0m\u001b[0;34m]\u001b[0m \u001b[0;34m+\u001b[0m \u001b[0marr\u001b[0m\u001b[0;34m[\u001b[0m\u001b[0mi\u001b[0m\u001b[0;34m+\u001b[0m\u001b[0;36m2\u001b[0m\u001b[0;34m]\u001b[0m\u001b[0;34m[\u001b[0m\u001b[0mj\u001b[0m\u001b[0;34m+\u001b[0m\u001b[0;36m1\u001b[0m\u001b[0;34m]\u001b[0m \u001b[0;34m+\u001b[0m \u001b[0marr\u001b[0m\u001b[0;34m[\u001b[0m\u001b[0mi\u001b[0m\u001b[0;34m+\u001b[0m\u001b[0;36m2\u001b[0m\u001b[0;34m]\u001b[0m\u001b[0;34m[\u001b[0m\u001b[0mj\u001b[0m\u001b[0;34m+\u001b[0m\u001b[0;36m2\u001b[0m\u001b[0;34m]\u001b[0m\u001b[0;34m\u001b[0m\u001b[0m\n\u001b[1;32m      8\u001b[0m     \u001b[0msumm\u001b[0m \u001b[0;34m+=\u001b[0m \u001b[0marr\u001b[0m\u001b[0;34m[\u001b[0m\u001b[0mi\u001b[0m\u001b[0;34m+\u001b[0m\u001b[0;36m1\u001b[0m\u001b[0;34m]\u001b[0m\u001b[0;34m[\u001b[0m\u001b[0mj\u001b[0m\u001b[0;34m+\u001b[0m\u001b[0;36m1\u001b[0m\u001b[0;34m]\u001b[0m\u001b[0;34m\u001b[0m\u001b[0m\n",
      "\u001b[0;31mIndexError\u001b[0m: list index out of range"
     ]
    }
   ],
   "source": [
    "\n",
    "def hourglassSum(arr, i, j):\n",
    "    \n",
    "    summ = 0\n",
    "\n",
    "    summ += arr[i][j] + arr[i][j+1] + arr[i][j+2]\n",
    "    summ += arr[i+2][j] + arr[i+2][j+1] + arr[i+2][j+2]\n",
    "    summ += arr[i+1][j+1]\n",
    "    \n",
    "    return summ \n"
   ]
  },
  {
   "cell_type": "code",
   "execution_count": 34,
   "metadata": {},
   "outputs": [
    {
     "ename": "IndexError",
     "evalue": "list index out of range",
     "output_type": "error",
     "traceback": [
      "\u001b[0;31m---------------------------------------------------------------------------\u001b[0m",
      "\u001b[0;31mIndexError\u001b[0m                                Traceback (most recent call last)",
      "\u001b[0;32m<ipython-input-34-626d152e6a1e>\u001b[0m in \u001b[0;36m<module>\u001b[0;34m()\u001b[0m\n\u001b[1;32m     13\u001b[0m     \u001b[0;32mfor\u001b[0m \u001b[0mj\u001b[0m \u001b[0;32min\u001b[0m \u001b[0mrange\u001b[0m\u001b[0;34m(\u001b[0m\u001b[0;36m0\u001b[0m\u001b[0;34m,\u001b[0m\u001b[0;36m4\u001b[0m\u001b[0;34m)\u001b[0m\u001b[0;34m:\u001b[0m\u001b[0;34m\u001b[0m\u001b[0m\n\u001b[1;32m     14\u001b[0m \u001b[0;34m\u001b[0m\u001b[0m\n\u001b[0;32m---> 15\u001b[0;31m         \u001b[0mresult\u001b[0m \u001b[0;34m=\u001b[0m \u001b[0mhourglassSum\u001b[0m\u001b[0;34m(\u001b[0m\u001b[0marr\u001b[0m\u001b[0;34m,\u001b[0m \u001b[0mi\u001b[0m\u001b[0;34m,\u001b[0m \u001b[0mj\u001b[0m\u001b[0;34m)\u001b[0m\u001b[0;34m\u001b[0m\u001b[0m\n\u001b[0m\u001b[1;32m     16\u001b[0m \u001b[0;34m\u001b[0m\u001b[0m\n\u001b[1;32m     17\u001b[0m         \u001b[0mresult1\u001b[0m \u001b[0;34m=\u001b[0m \u001b[0mresult1\u001b[0m\u001b[0;34m.\u001b[0m\u001b[0mappend\u001b[0m\u001b[0;34m(\u001b[0m\u001b[0mresult\u001b[0m\u001b[0;34m)\u001b[0m\u001b[0;34m\u001b[0m\u001b[0m\n",
      "\u001b[0;32m<ipython-input-32-896ebb2f4e7e>\u001b[0m in \u001b[0;36mhourglassSum\u001b[0;34m(arr, i, j)\u001b[0m\n\u001b[1;32m      4\u001b[0m     \u001b[0msumm\u001b[0m \u001b[0;34m=\u001b[0m \u001b[0;36m0\u001b[0m\u001b[0;34m\u001b[0m\u001b[0m\n\u001b[1;32m      5\u001b[0m \u001b[0;34m\u001b[0m\u001b[0m\n\u001b[0;32m----> 6\u001b[0;31m     \u001b[0msumm\u001b[0m \u001b[0;34m+=\u001b[0m \u001b[0marr\u001b[0m\u001b[0;34m[\u001b[0m\u001b[0mi\u001b[0m\u001b[0;34m]\u001b[0m\u001b[0;34m[\u001b[0m\u001b[0mj\u001b[0m\u001b[0;34m]\u001b[0m \u001b[0;34m+\u001b[0m \u001b[0marr\u001b[0m\u001b[0;34m[\u001b[0m\u001b[0mi\u001b[0m\u001b[0;34m]\u001b[0m\u001b[0;34m[\u001b[0m\u001b[0mj\u001b[0m\u001b[0;34m+\u001b[0m\u001b[0;36m1\u001b[0m\u001b[0;34m]\u001b[0m \u001b[0;34m+\u001b[0m \u001b[0marr\u001b[0m\u001b[0;34m[\u001b[0m\u001b[0mi\u001b[0m\u001b[0;34m]\u001b[0m\u001b[0;34m[\u001b[0m\u001b[0mj\u001b[0m\u001b[0;34m+\u001b[0m\u001b[0;36m2\u001b[0m\u001b[0;34m]\u001b[0m\u001b[0;34m\u001b[0m\u001b[0m\n\u001b[0m\u001b[1;32m      7\u001b[0m     \u001b[0msumm\u001b[0m \u001b[0;34m+=\u001b[0m \u001b[0marr\u001b[0m\u001b[0;34m[\u001b[0m\u001b[0mi\u001b[0m\u001b[0;34m+\u001b[0m\u001b[0;36m2\u001b[0m\u001b[0;34m]\u001b[0m\u001b[0;34m[\u001b[0m\u001b[0mj\u001b[0m\u001b[0;34m]\u001b[0m \u001b[0;34m+\u001b[0m \u001b[0marr\u001b[0m\u001b[0;34m[\u001b[0m\u001b[0mi\u001b[0m\u001b[0;34m+\u001b[0m\u001b[0;36m2\u001b[0m\u001b[0;34m]\u001b[0m\u001b[0;34m[\u001b[0m\u001b[0mj\u001b[0m\u001b[0;34m+\u001b[0m\u001b[0;36m1\u001b[0m\u001b[0;34m]\u001b[0m \u001b[0;34m+\u001b[0m \u001b[0marr\u001b[0m\u001b[0;34m[\u001b[0m\u001b[0mi\u001b[0m\u001b[0;34m+\u001b[0m\u001b[0;36m2\u001b[0m\u001b[0;34m]\u001b[0m\u001b[0;34m[\u001b[0m\u001b[0mj\u001b[0m\u001b[0;34m+\u001b[0m\u001b[0;36m2\u001b[0m\u001b[0;34m]\u001b[0m\u001b[0;34m\u001b[0m\u001b[0m\n\u001b[1;32m      8\u001b[0m     \u001b[0msumm\u001b[0m \u001b[0;34m+=\u001b[0m \u001b[0marr\u001b[0m\u001b[0;34m[\u001b[0m\u001b[0mi\u001b[0m\u001b[0;34m+\u001b[0m\u001b[0;36m1\u001b[0m\u001b[0;34m]\u001b[0m\u001b[0;34m[\u001b[0m\u001b[0mj\u001b[0m\u001b[0;34m+\u001b[0m\u001b[0;36m1\u001b[0m\u001b[0;34m]\u001b[0m\u001b[0;34m\u001b[0m\u001b[0m\n",
      "\u001b[0;31mIndexError\u001b[0m: list index out of range"
     ]
    }
   ],
   "source": [
    "\n",
    "#if __name__ == '__main__':\n",
    "    #fptr = open(os.environ['OUTPUT_PATH'], 'w')\n",
    "\n",
    "arr = []\n",
    "    \n",
    "result = []\n",
    "\n",
    "    #for _ in range(6):\n",
    "    #    arr.append(map(int, raw_input().rstrip().split()))\n",
    "\n",
    "# Iterating over a 2-d array\n",
    "for i in range(0,4):\n",
    "    for j in range(0,4):\n",
    "\n",
    "        result.append(hourglassSum(arr, i, j))\n",
    "            \n",
    "        #result1 = result1.append(result)\n",
    "        \n",
    "        max_res = max(result)\n",
    "            \n",
    "print(max_res)\n",
    "\n",
    "    #fptr.write(str(result) + '\\n')\n",
    "\n",
    "    #fptr.close()"
   ]
  },
  {
   "cell_type": "markdown",
   "metadata": {},
   "source": [
    " "
   ]
  },
  {
   "cell_type": "markdown",
   "metadata": {},
   "source": [
    "#### Array rotation"
   ]
  },
  {
   "cell_type": "code",
   "execution_count": 81,
   "metadata": {},
   "outputs": [
    {
     "data": {
      "text/plain": [
       "5"
      ]
     },
     "execution_count": 81,
     "metadata": {},
     "output_type": "execute_result"
    }
   ],
   "source": [
    "arr1 = [7, 4, 2, 0, 4]\n",
    "\n",
    "len(arr1)"
   ]
  },
  {
   "cell_type": "code",
   "execution_count": 101,
   "metadata": {},
   "outputs": [
    {
     "name": "stdout",
     "output_type": "stream",
     "text": [
      "i2 2\n",
      "i2 3\n",
      "i2 4\n",
      "exc by 1\n",
      "exc by 0\n",
      "[-9223372036854775800                    0                    4\n",
      "                    4                    2]\n"
     ]
    }
   ],
   "source": [
    "arr2 = np.ndarray((5,),int)\n",
    "\n",
    "for i in range(len(arr1)): \n",
    "    \n",
    "    #print(i, arr1[i])\n",
    "    \n",
    "    # Store the value in temp\n",
    "    temp = arr1[i]\n",
    "    \n",
    "    # Increment index by rotation # specified\n",
    "    i2 = i+2\n",
    "    \n",
    "    if i2 <= (len(arr1)-1):\n",
    "        \n",
    "        print(\"i2\", i2)\n",
    "    \n",
    "        arr2[i2] = temp\n",
    "        \n",
    "    else:\n",
    "        \n",
    "        exc = ((len(arr1)-1) - i)\n",
    "        \n",
    "        print(\"exc by\", exc)\n",
    "        \n",
    "        new_i = (2 - exc)\n",
    "        \n",
    "        if new_i != 0:\n",
    "        \n",
    "        #print(new_i)\n",
    "    \n",
    "            arr2[new_i] = temp\n",
    "        \n",
    "        elif new_i == 0:\n",
    "            \n",
    "            arr2[2] = temp\n",
    "    \n",
    "print(arr2)"
   ]
  },
  {
   "cell_type": "code",
   "execution_count": 96,
   "metadata": {},
   "outputs": [
    {
     "name": "stdout",
     "output_type": "stream",
     "text": [
      "4\n"
     ]
    }
   ],
   "source": [
    "print(len(arr1)-1)"
   ]
  },
  {
   "cell_type": "code",
   "execution_count": 41,
   "metadata": {},
   "outputs": [
    {
     "ename": "TypeError",
     "evalue": "'int' object is not subscriptable",
     "output_type": "error",
     "traceback": [
      "\u001b[0;31m---------------------------------------------------------------------------\u001b[0m",
      "\u001b[0;31mTypeError\u001b[0m                                 Traceback (most recent call last)",
      "\u001b[0;32m<ipython-input-41-63535d8b1175>\u001b[0m in \u001b[0;36m<module>\u001b[0;34m()\u001b[0m\n\u001b[0;32m----> 1\u001b[0;31m \u001b[0mprint\u001b[0m\u001b[0;34m(\u001b[0m\u001b[0mix\u001b[0m\u001b[0;34m[\u001b[0m\u001b[0mi\u001b[0m\u001b[0;34m]\u001b[0m\u001b[0;34m)\u001b[0m\u001b[0;34m\u001b[0m\u001b[0m\n\u001b[0m",
      "\u001b[0;31mTypeError\u001b[0m: 'int' object is not subscriptable"
     ]
    }
   ],
   "source": [
    "arr2 = []\n",
    "\n",
    "for i in range(len(arr1)): \n",
    "    \n",
    "    print(i, arr1[i])\n",
    "    \n",
    "    # Store the value in temp\n",
    "    temp = arr1[i]\n",
    "    \n",
    "    # Increment index by rotation # specified\n",
    "    i2 = i+2\n",
    "    \n",
    "    if i2 <= (len(arr1)-1):\n",
    "        \n",
    "        print(i2)\n",
    "    \n",
    "        arr2[i2] = temp\n",
    "        \n",
    "    else:\n",
    "        \n",
    "        new_i = (2 - ((len(arr1)-1) - i))\n",
    "    \n",
    "        arr2[new_i] = temp\n",
    "    \n",
    "print(arr2)"
   ]
  },
  {
   "cell_type": "markdown",
   "metadata": {},
   "source": [
    " "
   ]
  },
  {
   "cell_type": "markdown",
   "metadata": {},
   "source": [
    "#### Array manipulation"
   ]
  },
  {
   "cell_type": "code",
   "execution_count": 139,
   "metadata": {},
   "outputs": [
    {
     "ename": "SyntaxError",
     "evalue": "invalid syntax (<ipython-input-139-859bff28c24f>, line 3)",
     "output_type": "error",
     "traceback": [
      "\u001b[0;36m  File \u001b[0;32m\"<ipython-input-139-859bff28c24f>\"\u001b[0;36m, line \u001b[0;32m3\u001b[0m\n\u001b[0;31m    a b k\u001b[0m\n\u001b[0m      ^\u001b[0m\n\u001b[0;31mSyntaxError\u001b[0m\u001b[0;31m:\u001b[0m invalid syntax\n"
     ]
    }
   ],
   "source": [
    "# String 1 \n",
    "\n",
    "a b k\n",
    "\n",
    "1 5 3 # Add k to all elements between a and b inclusive. \n",
    "4 8 7 \n",
    "6 9 1"
   ]
  },
  {
   "cell_type": "code",
   "execution_count": 140,
   "metadata": {},
   "outputs": [],
   "source": [
    "# Array of length 10 starting with 0\n",
    "\n",
    "arr1 = [0,0,0,0,0,0,0,0,0,0]"
   ]
  },
  {
   "cell_type": "code",
   "execution_count": 141,
   "metadata": {},
   "outputs": [],
   "source": [
    "# iterate over index of array\n",
    "\n",
    "for i in range(len(arr1)):\n",
    "    \n",
    "    if i >= 0 and i <= 4:\n",
    "        \n",
    "        arr1[i] = arr1[i] +3\n",
    "        \n",
    "    if i >= 3 and i <= 7:\n",
    "        \n",
    "        arr1[i] = arr1[i] + 7\n",
    "        \n",
    "    if i >= 5 and i <= 8:\n",
    "        \n",
    "        arr1[i] = arr1[i] + 1"
   ]
  },
  {
   "cell_type": "code",
   "execution_count": 112,
   "metadata": {},
   "outputs": [
    {
     "data": {
      "text/plain": [
       "[3, 3, 3, 10, 10, 8, 8, 8, 1, 0]"
      ]
     },
     "execution_count": 112,
     "metadata": {},
     "output_type": "execute_result"
    }
   ],
   "source": [
    "arr1"
   ]
  },
  {
   "cell_type": "code",
   "execution_count": 113,
   "metadata": {},
   "outputs": [
    {
     "data": {
      "text/plain": [
       "10"
      ]
     },
     "execution_count": 113,
     "metadata": {},
     "output_type": "execute_result"
    }
   ],
   "source": [
    "max(arr1)"
   ]
  },
  {
   "cell_type": "code",
   "execution_count": 25,
   "metadata": {},
   "outputs": [],
   "source": [
    "# Add k to elements between a and b inclusive. \n",
    "\n",
    "queries = [[1, 5, 3],\n",
    "           [4, 8, 7],\n",
    "           [6, 9, 1],\n",
    "           [9, 8, 1]]"
   ]
  },
  {
   "cell_type": "code",
   "execution_count": 29,
   "metadata": {},
   "outputs": [],
   "source": [
    "\n",
    "queries = [[1, 2, 100],\n",
    "           [2, 5, 100],\n",
    "           [3, 4, 100]]"
   ]
  },
  {
   "cell_type": "code",
   "execution_count": 30,
   "metadata": {},
   "outputs": [
    {
     "data": {
      "text/plain": [
       "3"
      ]
     },
     "execution_count": 30,
     "metadata": {},
     "output_type": "execute_result"
    }
   ],
   "source": [
    "len(queries)"
   ]
  },
  {
   "cell_type": "code",
   "execution_count": 31,
   "metadata": {},
   "outputs": [],
   "source": [
    "# Function \n",
    "\n",
    "def arrayManipulation(n, queries):\n",
    "\n",
    "    arr1 = [0]*n\n",
    "    \n",
    "    for i in range(len(arr1)):\n",
    "\n",
    "        if i >= queries[0][0] and i <= queries[0][1]:\n",
    "        \n",
    "            arr1[i] = arr1[i] + queries[0][2]\n",
    "        \n",
    "        if i >= queries[1][0] and i <= queries[1][1]:\n",
    "        \n",
    "            arr1[i] = arr1[i] + queries[1][2]\n",
    "        \n",
    "        if i >= queries[2][0] and i <= queries[2][1]:\n",
    "        \n",
    "            arr1[i] = arr1[i] + queries[2][2]\n",
    "            \n",
    "    return arr1"
   ]
  },
  {
   "cell_type": "code",
   "execution_count": 32,
   "metadata": {},
   "outputs": [],
   "source": [
    "# Function\n",
    "\n",
    "def arrayManipulation(n, queries):\n",
    "\n",
    "    arr1 = [0]*n\n",
    "\n",
    "    m = len(queries)\n",
    "\n",
    "    ix = 0\n",
    "    \n",
    "    while ix < m:\n",
    "\n",
    "        print(ix)\n",
    "\n",
    "        for i in range(len(arr1)):\n",
    "\n",
    "            if i >= queries[ix][0] and i <= queries[ix][1]:\n",
    "        \n",
    "                arr1[i] = arr1[i] + queries[ix][2]\n",
    "\n",
    "        ix += 1\n",
    "\n",
    "    return max(arr1)"
   ]
  },
  {
   "cell_type": "code",
   "execution_count": 33,
   "metadata": {},
   "outputs": [
    {
     "name": "stdout",
     "output_type": "stream",
     "text": [
      "0\n",
      "1\n",
      "2\n",
      "200\n"
     ]
    }
   ],
   "source": [
    "result = arrayManipulation(5, queries)\n",
    "\n",
    "print(result)"
   ]
  },
  {
   "cell_type": "markdown",
   "metadata": {},
   "source": [
    "Maximizing mission points - "
   ]
  },
  {
   "cell_type": "markdown",
   "metadata": {},
   "source": [
    "https://www.hackerrank.com/challenges/maximizing-mission-points/problem"
   ]
  },
  {
   "cell_type": "code",
   "execution_count": 144,
   "metadata": {},
   "outputs": [],
   "source": [
    "# Declare a 2D Array with lat, long, height and points values. \n",
    "\n",
    "latitudeLongitude = [[1, 1, 1, 3],\n",
    "                     [2, 2, 2, -1],\n",
    "                     [3, 3, 3, 3]]"
   ]
  },
  {
   "cell_type": "code",
   "execution_count": 186,
   "metadata": {},
   "outputs": [
    {
     "name": "stdout",
     "output_type": "stream",
     "text": [
      "[1, 2, 3] [1, 2, 3] [1, 2, 3] [3, -1, 3]\n",
      "1\n",
      "2\n"
     ]
    },
    {
     "ename": "IndexError",
     "evalue": "list index out of range",
     "output_type": "error",
     "traceback": [
      "\u001b[0;31m---------------------------------------------------------------------------\u001b[0m",
      "\u001b[0;31mIndexError\u001b[0m                                Traceback (most recent call last)",
      "\u001b[0;32m<ipython-input-186-83ec1f35542c>\u001b[0m in \u001b[0;36m<module>\u001b[0;34m()\u001b[0m\n\u001b[1;32m     42\u001b[0m         \u001b[0mprint\u001b[0m\u001b[0;34m(\u001b[0m\u001b[0mi\u001b[0m\u001b[0;34m)\u001b[0m\u001b[0;34m\u001b[0m\u001b[0m\n\u001b[1;32m     43\u001b[0m \u001b[0;34m\u001b[0m\u001b[0m\n\u001b[0;32m---> 44\u001b[0;31m         \u001b[0;32mif\u001b[0m \u001b[0mabs\u001b[0m\u001b[0;34m(\u001b[0m\u001b[0mlat\u001b[0m\u001b[0;34m[\u001b[0m\u001b[0mi\u001b[0m\u001b[0;34m]\u001b[0m\u001b[0;34m-\u001b[0m\u001b[0mlat\u001b[0m\u001b[0;34m[\u001b[0m\u001b[0mi\u001b[0m\u001b[0;34m+\u001b[0m\u001b[0;36m1\u001b[0m\u001b[0;34m]\u001b[0m\u001b[0;34m)\u001b[0m \u001b[0;32mand\u001b[0m \u001b[0mabs\u001b[0m\u001b[0;34m(\u001b[0m\u001b[0mlong\u001b[0m\u001b[0;34m[\u001b[0m\u001b[0mi\u001b[0m\u001b[0;34m]\u001b[0m\u001b[0;34m-\u001b[0m\u001b[0mlong\u001b[0m\u001b[0;34m[\u001b[0m\u001b[0mi\u001b[0m\u001b[0;34m+\u001b[0m\u001b[0;36m1\u001b[0m\u001b[0;34m]\u001b[0m\u001b[0;34m)\u001b[0m \u001b[0;32mand\u001b[0m \u001b[0;34m(\u001b[0m\u001b[0mheight\u001b[0m\u001b[0;34m[\u001b[0m\u001b[0mi\u001b[0m\u001b[0;34m]\u001b[0m\u001b[0;34m>\u001b[0m\u001b[0mheight\u001b[0m\u001b[0;34m[\u001b[0m\u001b[0mi\u001b[0m\u001b[0;34m+\u001b[0m\u001b[0;36m1\u001b[0m\u001b[0;34m]\u001b[0m\u001b[0;34m)\u001b[0m\u001b[0;34m:\u001b[0m\u001b[0;34m\u001b[0m\u001b[0m\n\u001b[0m\u001b[1;32m     45\u001b[0m \u001b[0;34m\u001b[0m\u001b[0m\n\u001b[1;32m     46\u001b[0m             \u001b[0;31m# Store points in a array\u001b[0m\u001b[0;34m\u001b[0m\u001b[0;34m\u001b[0m\u001b[0m\n",
      "\u001b[0;31mIndexError\u001b[0m: list index out of range"
     ]
    }
   ],
   "source": [
    "# Number of cities\n",
    "\n",
    "n = 3\n",
    "d_lat = 1\n",
    "d_long = 1\n",
    "\n",
    "\n",
    "# Iterate over elements and rows of 2D Array. \n",
    "\n",
    "lat = []\n",
    "long = []\n",
    "height = []\n",
    "points = []\n",
    "points_collected = []\n",
    "\n",
    "for i in range(0,len(latitudeLongitude)):\n",
    "    \n",
    "    lat.append(latitudeLongitude[i][0])\n",
    "    long.append(latitudeLongitude[i][1])\n",
    "    height.append(latitudeLongitude[i][2])\n",
    "    points.append(latitudeLongitude[i][3])\n",
    "    \n",
    "print(lat, long, height, points)\n",
    "    \n",
    "# Start with city with minimum height \n",
    "    \n",
    "min_height = min(height)\n",
    "\n",
    "# Get the position/index of city with min height to lookup other values\n",
    "\n",
    "start_ix = height.index(min_height)\n",
    "\n",
    "points_collected = points[start_ix]\n",
    "\n",
    "# Set index to current city index\n",
    "cur_ix = start_ix\n",
    "\n",
    "# Now find adjacents cities that can be visited depending on the distance constraint. \n",
    "while cur_ix <= len(latitudeLongitude):\n",
    "    \n",
    "    # Get ix of next city that is within the lat, long distance constraint of current city and higher as well. \n",
    "    # Current city index\n",
    "    if i == cur_ix:\n",
    "        \n",
    "        print(i)\n",
    "        \n",
    "        if (abs(lat[i]-lat[i+1]) <= d_lat) and (abs(long[i]-long[i+1]) <= d_long) and (height[i]>height[i+1]):  \n",
    "\n",
    "            # Store points in a array \n",
    "            points_collected.append(points[i])\n",
    "    \n",
    "print(points)"
   ]
  },
  {
   "cell_type": "code",
   "execution_count": 187,
   "metadata": {},
   "outputs": [
    {
     "name": "stdout",
     "output_type": "stream",
     "text": [
      "0\n",
      "1\n",
      "2\n",
      "3\n",
      "4\n",
      "5\n"
     ]
    }
   ],
   "source": [
    "arr3 = [7,1,5,3,6,4]\n",
    "\n",
    "for i in range(len(arr3)):\n",
    "    \n",
    "    print(i)\n",
    "    \n"
   ]
  },
  {
   "cell_type": "code",
   "execution_count": 188,
   "metadata": {},
   "outputs": [],
   "source": [
    "prices = [7,6,4,3,1]"
   ]
  },
  {
   "cell_type": "code",
   "execution_count": 194,
   "metadata": {},
   "outputs": [
    {
     "name": "stdout",
     "output_type": "stream",
     "text": [
      "1\n"
     ]
    }
   ],
   "source": [
    "prices_buy = prices[0:len(prices)]\n",
    "\n",
    "print(min(prices_buy))"
   ]
  },
  {
   "cell_type": "code",
   "execution_count": 192,
   "metadata": {},
   "outputs": [
    {
     "name": "stdout",
     "output_type": "stream",
     "text": [
      "0\n"
     ]
    }
   ],
   "source": [
    "# Loop to find buy day\n",
    "        \n",
    "\n",
    "            \n",
    "#print(prices_buy)    \n",
    "        \n",
    "# Buy when price = minimum\n",
    "buy = min(prices_buy)\n",
    "        \n",
    "day_buy = prices_buy.index(buy)\n",
    "\n",
    "        \n",
    "#print('day of buy', day_buy)\n",
    "# If minumum price is on last day, i.e last element\n",
    "        \n",
    "if day_buy == (len(prices)-1):\n",
    "            \n",
    "    print(0)\n",
    "        \n",
    "else:\n",
    "            \n",
    "    # Sell only after buy\n",
    "    prices_sell = prices[day_buy+1:]\n",
    "        \n",
    "    sell = max(prices_sell)\n",
    "            \n",
    "    # Calculate profits\n",
    "    profit = (sell - buy)      \n",
    "    \n",
    "    print(profit)"
   ]
  },
  {
   "cell_type": "markdown",
   "metadata": {},
   "source": [
    "#### Selection sort"
   ]
  },
  {
   "cell_type": "code",
   "execution_count": 56,
   "metadata": {},
   "outputs": [],
   "source": [
    "# Declare function\n",
    "\n",
    "def selection_sort_ks(x):\n",
    "    \n",
    "    arr1 = []\n",
    "    \n",
    "    for i in range(len(x)):\n",
    "        \n",
    "        # Subset array based on current index\n",
    "        temp_min = min(x)\n",
    "        \n",
    "        #print(temp_min)\n",
    "        \n",
    "        # Pop min from array\n",
    "        #del x[x.to_list().index(temp_min)]\n",
    "        \n",
    "        new_x = np.delete(x, np.where(x == temp_min), None)\n",
    "        \n",
    "        x = new_x\n",
    "        \n",
    "        print(new_x)\n",
    "        \n",
    "        arr1.append(temp_min)\n",
    "        \n",
    "    return arr1"
   ]
  },
  {
   "cell_type": "code",
   "execution_count": 57,
   "metadata": {},
   "outputs": [
    {
     "name": "stdout",
     "output_type": "stream",
     "text": [
      "[ 3  8 10  9]\n",
      "[ 8 10  9]\n",
      "[10  9]\n",
      "[10]\n",
      "[]\n"
     ]
    },
    {
     "data": {
      "text/plain": [
       "[2, 3, 8, 9, 10]"
      ]
     },
     "execution_count": 57,
     "metadata": {},
     "output_type": "execute_result"
    }
   ],
   "source": [
    "x = np.array([2, 3, 8, 10, 9])\n",
    "selection_sort_ks(x)"
   ]
  },
  {
   "cell_type": "markdown",
   "metadata": {},
   "source": [
    "#### Median of 2 sorted arrays"
   ]
  },
  {
   "cell_type": "code",
   "execution_count": 14,
   "metadata": {},
   "outputs": [],
   "source": [
    "def findMedianSortedArrays(nums1, nums2):\n",
    "        \"\"\"\n",
    "        :type nums1: List[int]\n",
    "        :type nums2: List[int]\n",
    "        :rtype: float\n",
    "        \"\"\"\n",
    "        \n",
    "        # Sort the array\n",
    "        total = sorted(nums1 + nums2)\n",
    "        \n",
    "        # If Even total number of elements in array\n",
    "        if len(total) % 2 == 0:\n",
    "            \n",
    "            print(int(len(total)/2))\n",
    "            \n",
    "            # Find and sum middle 2 numbers and divide by 2\n",
    "            mid1 = total[int(len(total)/2)]\n",
    "            mid2 = total[int(len(total)/2)+1]\n",
    "            \n",
    "            return (mid1+mid2)/2\n",
    "        \n",
    "        else:\n",
    "            \n",
    "            quo = len(total) // 2\n",
    "            \n",
    "            return total[quo]        "
   ]
  },
  {
   "cell_type": "code",
   "execution_count": 15,
   "metadata": {},
   "outputs": [
    {
     "name": "stdout",
     "output_type": "stream",
     "text": [
      "2\n"
     ]
    }
   ],
   "source": [
    "nums1 = [1, 2]\n",
    "nums2 = [3, 4]\n",
    "\n",
    "result = findMedianSortedArrays(nums1, nums2)"
   ]
  },
  {
   "cell_type": "markdown",
   "metadata": {},
   "source": [
    "#### Generate power set"
   ]
  },
  {
   "cell_type": "code",
   "execution_count": 90,
   "metadata": {},
   "outputs": [],
   "source": [
    "def subsets(nums):\n",
    "        \n",
    "    master_list = []\n",
    "        \n",
    "    for i in range(len(nums)):\n",
    "            \n",
    "        master_list.append([nums[i]])\n",
    "            \n",
    "    master_list.append(nums)\n",
    "    \n",
    "    k = 1\n",
    "        \n",
    "    for i in range(len(nums)):\n",
    "        for j in range(len(nums)-1):\n",
    "            for k in range(len(nums))\n",
    "            \n",
    "            if (i+k) <= len(nums):\n",
    "            \n",
    "                j = i+k\n",
    "            \n",
    "                #master_list.append([nums[i],nums[j]])\n",
    "            \n",
    "                print(nums[i],nums[j])\n",
    "            \n",
    "                # Increment j \n",
    "                k = k + 1\n",
    "                \n",
    "            else:\n",
    "                \n",
    "                print(nums[i],nums[])\n",
    "                \n",
    "            \n",
    "            \n",
    "            \n",
    "    # Empty list as part of power set        \n",
    "    #master_list.append([])\n",
    "    \n",
    "    #return master_list\n",
    "    \n",
    "    #return list(set(master_list))\n",
    "\n",
    "    #return [list(x) for x in set(tuple(x) for x in master_list)]"
   ]
  },
  {
   "cell_type": "code",
   "execution_count": 104,
   "metadata": {},
   "outputs": [],
   "source": [
    "# leetcode solution\n",
    "\n",
    "def subsets(nums):\n",
    "        n = len(nums)\n",
    "        output = [[]]\n",
    "        \n",
    "        for num in nums:\n",
    "            output += [curr + [num] for curr in output]\n",
    "            \n",
    "            print(num)\n",
    "            print('output', output)\n",
    "        \n",
    "        #return output"
   ]
  },
  {
   "cell_type": "code",
   "execution_count": 105,
   "metadata": {},
   "outputs": [
    {
     "name": "stdout",
     "output_type": "stream",
     "text": [
      "1\n",
      "output [[], [1]]\n",
      "2\n",
      "output [[], [1], [2], [1, 2]]\n",
      "3\n",
      "output [[], [1], [2], [1, 2], [3], [1, 3], [2, 3], [1, 2, 3]]\n"
     ]
    }
   ],
   "source": [
    "nums = [1,2,3]\n",
    "\n",
    "result = subsets(nums)\n",
    "\n",
    "result"
   ]
  },
  {
   "cell_type": "markdown",
   "metadata": {},
   "source": [
    "#### Max Difference"
   ]
  },
  {
   "cell_type": "code",
   "execution_count": 114,
   "metadata": {},
   "outputs": [],
   "source": [
    "# Complete the maxDifference function below.\n",
    "def maxDifference(n, a):\n",
    "    \n",
    "    # Store calculated differences\n",
    "    \n",
    "    diff = []\n",
    "    \n",
    "    for i in range(len(a)):\n",
    "        \n",
    "        # subset array for lower index elements\n",
    "        lower = a[:i]\n",
    "        \n",
    "        if lower:\n",
    "            for j in range(len(lower)):\n",
    "                \n",
    "                # Check is value of element is lower\n",
    "                if lower[j] < a[i]:\n",
    "                    \n",
    "                    diff.append(a[i]-lower[j])\n",
    "                    \n",
    "    if diff:\n",
    "        \n",
    "        return max(diff)\n",
    "\n",
    "    else: \n",
    "        \n",
    "        return print(-1)\n"
   ]
  },
  {
   "cell_type": "code",
   "execution_count": 115,
   "metadata": {},
   "outputs": [
    {
     "data": {
      "text/plain": [
       "8"
      ]
     },
     "execution_count": 115,
     "metadata": {},
     "output_type": "execute_result"
    }
   ],
   "source": [
    "maxDifference(7, [2,3,10,2,4,8,1])"
   ]
  },
  {
   "cell_type": "code",
   "execution_count": null,
   "metadata": {},
   "outputs": [],
   "source": [
    "# Complete the maxDifference function below.\n",
    "def maxDifference(n, a):\n",
    "    \n",
    "    # Store calculated differences\n",
    "    \n",
    "    diff = []\n",
    "    \n",
    "    for i in range(len(a)):\n",
    "        \n",
    "        # subset array for lower index elements\n",
    "        lower = a[:i]\n",
    "        \n",
    "        if lower:\n",
    "            for j in range(len(lower)):\n",
    "                \n",
    "                # Check is value of element is lower\n",
    "                if lower[j] < a[i]:\n",
    "                    \n",
    "                    diff.append(a[i]-lower[j])\n",
    "        \n",
    "    return max(diff)\n",
    "\n",
    "\n",
    "\n",
    "if __name__ == '__main__':"
   ]
  },
  {
   "cell_type": "code",
   "execution_count": 8,
   "metadata": {
    "collapsed": true
   },
   "outputs": [
    {
     "ename": "SyntaxError",
     "evalue": "unexpected EOF while parsing (<ipython-input-8-ff4c7ff5cd7c>, line 6)",
     "output_type": "error",
     "traceback": [
      "\u001b[0;36m  File \u001b[0;32m\"<ipython-input-8-ff4c7ff5cd7c>\"\u001b[0;36m, line \u001b[0;32m6\u001b[0m\n\u001b[0;31m    #if (q[i] != q[j])\u001b[0m\n\u001b[0m                      ^\u001b[0m\n\u001b[0;31mSyntaxError\u001b[0m\u001b[0;31m:\u001b[0m unexpected EOF while parsing\n"
     ]
    }
   ],
   "source": [
    "# Nested for loop compare each element of the array with each other\n",
    "    \n",
    "for i in range(len(q)):\n",
    "    for j in range(len(q[i:])):\n",
    "            \n",
    "        #if (q[i] != q[j])"
   ]
  },
  {
   "cell_type": "markdown",
   "metadata": {},
   "source": [
    "#### Minimum Bribes "
   ]
  },
  {
   "cell_type": "code",
   "execution_count": 23,
   "metadata": {},
   "outputs": [],
   "source": [
    "# Complete the minimumBribes function below.\n",
    "def minimumBribes(q):\n",
    "    \n",
    "    #n = len(q)\n",
    "    \n",
    "    # Check the difference between each element in the array for bribes \n",
    "    # Nested for loop compare each element of the array with each other\n",
    "       \n",
    "    count = 0\n",
    "    i = 0\n",
    "    \n",
    "    for i in range(len(q)):\n",
    "    \n",
    "        try:\n",
    "            if (q[i+1] - q[i]) != 1:\n",
    "            \n",
    "                count = count + 1\n",
    "                \n",
    "        except:\n",
    "            pass\n",
    "            \n",
    "    print(count)"
   ]
  },
  {
   "cell_type": "code",
   "execution_count": 24,
   "metadata": {},
   "outputs": [
    {
     "name": "stdout",
     "output_type": "stream",
     "text": [
      "5\n",
      "3\n"
     ]
    }
   ],
   "source": [
    "minimumBribes([2, 5, 1, 3, 4])"
   ]
  },
  {
   "cell_type": "markdown",
   "metadata": {},
   "source": [
    "#### Fraudulent Activity Notifications"
   ]
  },
  {
   "cell_type": "code",
   "execution_count": 127,
   "metadata": {},
   "outputs": [],
   "source": [
    "# Complete the activityNotifications function below.\n",
    "\n",
    "def activityNotifications(exp, d):\n",
    "    \n",
    "    # Notification count\n",
    "    notify = 0\n",
    "    \n",
    "    # Check if trailing days != \n",
    "    if d < len(exp):\n",
    "        \n",
    "        lead = exp[d:]\n",
    "    \n",
    "        for i in range(len(lead)):\n",
    "        \n",
    "            # Calculate median\n",
    "            med = statistics.median(exp[i:d+i])\n",
    "            \n",
    "            if (lead[i] >= 2*med):\n",
    "            \n",
    "                notify += 1\n",
    "            \n",
    "        return notify\n",
    "    \n",
    "    else:\n",
    "        \n",
    "        return 0"
   ]
  },
  {
   "cell_type": "code",
   "execution_count": 46,
   "metadata": {},
   "outputs": [],
   "source": [
    "#### Fraudulent Activity Notification with count sort \n",
    "\n",
    "# Complete the activityNotifications function below.\n",
    "\n",
    "def activityNotifications(exp, d):\n",
    "    \n",
    "    # Notification count\n",
    "    notify = 0\n",
    "    \n",
    "    # Check if trailing days != \n",
    "    if d < len(exp):\n",
    "        \n",
    "        lead = exp[d:]\n",
    "        \n",
    "        print(lead)\n",
    "    \n",
    "        for i in range(len(lead)):\n",
    "            \n",
    "            print(i)\n",
    "        \n",
    "            # Calculate median\n",
    "            # Length starts with 0\n",
    "    \n",
    "            exp_sort = exp[i:d+i]\n",
    "            exp_sort = sorted(exp_sort)\n",
    "            \n",
    "            # If even total number of elements in array \n",
    "            # Check if exactly divisible \n",
    "            if len(exp_sort) % 2 == 0:\n",
    "            \n",
    "                # Find and sum middle 2 numbers and divide by 2\n",
    "                mid1 = exp_sort[int(len(exp_sort)/2)]\n",
    "                mid2 = exp_sort[int(len(exp_sort)/2)-1]\n",
    "                \n",
    "                print(mid1, mid2)\n",
    "                \n",
    "                med = (exp_sort[mid1] + exp_sort[mid2])/2\n",
    "            \n",
    "            else:\n",
    "            \n",
    "                med_i = len(exp_sort) // 2 \n",
    "                med = exp_sort[med_i]\n",
    "            \n",
    "            if (lead[i] >= 2*med):\n",
    "            \n",
    "                notify += 1\n",
    "            \n",
    "        return notify\n",
    "    \n",
    "    else:\n",
    "        \n",
    "        return 0"
   ]
  },
  {
   "cell_type": "code",
   "execution_count": 47,
   "metadata": {},
   "outputs": [
    {
     "name": "stdout",
     "output_type": "stream",
     "text": [
      "[4]\n",
      "0\n",
      "3 2\n"
     ]
    },
    {
     "data": {
      "text/plain": [
       "0"
      ]
     },
     "execution_count": 47,
     "metadata": {},
     "output_type": "execute_result"
    }
   ],
   "source": [
    "# Daily sum expenditure and trailing days. \n",
    "\n",
    "activityNotifications([1, 2, 3, 4, 4], 4)\n"
   ]
  },
  {
   "cell_type": "markdown",
   "metadata": {},
   "source": [
    "While, the solution is correct, not all test cases are passed because of time complexity. More specifically, sorting the subarray at each iteration is not efficient. \n",
    "\n",
    "Therefore, we attempt to fix some of those problems. "
   ]
  },
  {
   "cell_type": "code",
   "execution_count": 39,
   "metadata": {},
   "outputs": [],
   "source": [
    "# Fraudulent Activity Notification with count sort \n",
    "# Complete the activityNotifications function below.\n",
    "\n",
    "def activityNotifications(exp, d):\n",
    "    \n",
    "    notify_dict = {}\n",
    "    \n",
    "    # Notification count\n",
    "    notify = 0\n",
    "    \n",
    "    # Sort array and count the frequency of each element. \n",
    "    exp_sort = sorted(exp)\n",
    "    \n",
    "    \n",
    "    for "
   ]
  },
  {
   "cell_type": "code",
   "execution_count": 40,
   "metadata": {},
   "outputs": [
    {
     "name": "stdout",
     "output_type": "stream",
     "text": [
      "{1: 1, 2: 1, 3: 1, 4: 2}\n"
     ]
    }
   ],
   "source": [
    "activityNotifications([1, 2, 3, 4, 4], 5)"
   ]
  },
  {
   "cell_type": "markdown",
   "metadata": {},
   "source": [
    "#### Frequency count"
   ]
  },
  {
   "cell_type": "code",
   "execution_count": 43,
   "metadata": {},
   "outputs": [],
   "source": [
    "# for key, group in groupby(exp):\n",
    "        \n",
    "#     k = key\n",
    "#     v = len(list(group))\n",
    "        \n",
    "#     notify_dict[k] = v    "
   ]
  },
  {
   "cell_type": "markdown",
   "metadata": {},
   "source": [
    "#### Recursion"
   ]
  },
  {
   "cell_type": "code",
   "execution_count": 154,
   "metadata": {},
   "outputs": [],
   "source": [
    "# Using recursion to modify the existing list of characters\n",
    "\n",
    "def reverseString(s):\n",
    "    \"\"\"\n",
    "    Do not return anything, modify s in-place instead.\n",
    "    \"\"\"\n",
    "    \n",
    "    j = len(s)-1\n",
    "    \n",
    "    while i != j:\n",
    "        \n",
    "        s[i], s[j] = s[j], s[i]\n",
    "        \n",
    "        print(s[i],s[j])\n",
    "        \n",
    "        j -= 1\n",
    "    \n",
    "    #print(s)"
   ]
  },
  {
   "cell_type": "code",
   "execution_count": 155,
   "metadata": {},
   "outputs": [
    {
     "name": "stdout",
     "output_type": "stream",
     "text": [
      "h H\n",
      "a a\n",
      "n n\n",
      "n n\n",
      "a a\n"
     ]
    }
   ],
   "source": [
    "reverseString([\"H\",\"a\",\"n\",\"n\",\"a\",\"h\"])"
   ]
  },
  {
   "cell_type": "markdown",
   "metadata": {},
   "source": [
    "#### Check N and M such as N = M * 2 in an array"
   ]
  },
  {
   "cell_type": "code",
   "execution_count": 43,
   "metadata": {},
   "outputs": [],
   "source": [
    "def checkIfExist(arr):\n",
    "    \"\"\"\n",
    "    :type arr: List[int]\n",
    "    :rtype: bool\n",
    "    \"\"\"\n",
    "        \n",
    "    count = 0 \n",
    "        \n",
    "    for i in range(len(arr)):\n",
    "            \n",
    "        arr1 = arr[:i] + arr[i+1:]\n",
    "            \n",
    "        for j in range(len(arr1)):\n",
    "                \n",
    "            if (arr[i] == 2 * arr1[j]):\n",
    "                    \n",
    "                count = count + 1\n",
    "                    \n",
    "    if count > 0:\n",
    "            \n",
    "        return True\n",
    "        \n",
    "    else:\n",
    "            \n",
    "        return False     "
   ]
  },
  {
   "cell_type": "code",
   "execution_count": 44,
   "metadata": {},
   "outputs": [
    {
     "data": {
      "text/plain": [
       "False"
      ]
     },
     "execution_count": 44,
     "metadata": {},
     "output_type": "execute_result"
    }
   ],
   "source": [
    "checkIfExist([3,1,7,11])"
   ]
  },
  {
   "cell_type": "markdown",
   "metadata": {},
   "source": [
    "#### Compare two strings and count elements required for Anagram"
   ]
  },
  {
   "cell_type": "code",
   "execution_count": 60,
   "metadata": {},
   "outputs": [],
   "source": [
    "def minSteps(s, t):\n",
    "    \n",
    "    \"\"\"\n",
    "    :type s: str\n",
    "    :type t: str\n",
    "    :rtype: int\n",
    "    \"\"\"\n",
    "    \n",
    "    replace_t = []\n",
    "    replace_w = []\n",
    "        \n",
    "    # Find the characters from t that do not exist in s\n",
    "    for i in t:\n",
    "        \n",
    "        if i not in s:\n",
    "            \n",
    "            replace_t.append(i)\n",
    "    \n",
    "    print(replace_t)\n",
    "    \n",
    "    # Replace these characters with missing characters from s\n",
    "    for j in s:\n",
    "        \n",
    "        if j not in t:\n",
    "            \n",
    "            replace_w.append(j)\n",
    "            \n",
    "    print(replace_w)\n",
    "    \n",
    "    # Replace\n",
    "    for k in t: \n",
    "        \n",
    "        if k in replace_t:\n",
    "            \n",
    "            for q in replace_w:\n",
    "            \n",
    "                t.replace(k,q)\n",
    "    \n",
    "    print(t)"
   ]
  },
  {
   "cell_type": "code",
   "execution_count": 61,
   "metadata": {},
   "outputs": [
    {
     "name": "stdout",
     "output_type": "stream",
     "text": [
      "['a', 'm', 'l', 'y']\n",
      "['r', 'e', 'n', 'd']\n",
      "family\n"
     ]
    }
   ],
   "source": [
    "minSteps('friend','family')"
   ]
  },
  {
   "cell_type": "code",
   "execution_count": 62,
   "metadata": {},
   "outputs": [],
   "source": [
    "# Apply matching score function on each row of a dataframe\n",
    "\n",
    "# Save the calculated score in a new column\n",
    "\n",
    "#df_market_v1[''] = df.apply(lambda x: segmentMatch(x['TimeCol'], x['ResponseCol']), axis=1)"
   ]
  },
  {
   "cell_type": "markdown",
   "metadata": {},
   "source": [
    "#### Check if multiple of 2, 5 or both and print a, b, ab respectively. "
   ]
  },
  {
   "cell_type": "code",
   "execution_count": 5,
   "metadata": {},
   "outputs": [],
   "source": [
    "arr = list(range(1, 101))"
   ]
  },
  {
   "cell_type": "code",
   "execution_count": 15,
   "metadata": {},
   "outputs": [
    {
     "name": "stdout",
     "output_type": "stream",
     "text": [
      "2 a\n",
      "4 a\n",
      "5 b\n",
      "6 a\n",
      "8 a\n",
      "10 ab\n",
      "12 a\n",
      "14 a\n",
      "15 b\n",
      "16 a\n",
      "18 a\n",
      "20 ab\n",
      "22 a\n",
      "24 a\n",
      "25 b\n",
      "26 a\n",
      "28 a\n",
      "30 ab\n",
      "32 a\n",
      "34 a\n",
      "35 b\n",
      "36 a\n",
      "38 a\n",
      "40 ab\n",
      "42 a\n",
      "44 a\n",
      "45 b\n",
      "46 a\n",
      "48 a\n",
      "50 ab\n",
      "52 a\n",
      "54 a\n",
      "55 b\n",
      "56 a\n",
      "58 a\n",
      "60 ab\n",
      "62 a\n",
      "64 a\n",
      "65 b\n",
      "66 a\n",
      "68 a\n",
      "70 ab\n",
      "72 a\n",
      "74 a\n",
      "75 b\n",
      "76 a\n",
      "78 a\n",
      "80 ab\n",
      "82 a\n",
      "84 a\n",
      "85 b\n",
      "86 a\n",
      "88 a\n",
      "90 ab\n",
      "92 a\n",
      "94 a\n",
      "95 b\n",
      "96 a\n",
      "98 a\n",
      "100 ab\n"
     ]
    }
   ],
   "source": [
    "for i in range(len(arr)):\n",
    "    \n",
    "    if ((arr[i] % 2 == 0) & (arr[i] % 5 == 0)):\n",
    "        \n",
    "        print(arr[i], 'ab')\n",
    "    \n",
    "    elif (arr[i] % 2) == 0:\n",
    "        \n",
    "        print(arr[i], 'a')\n",
    "    \n",
    "    elif (arr[i] % 5) == 0:\n",
    "        \n",
    "        print(arr[i], 'b')\n"
   ]
  },
  {
   "cell_type": "code",
   "execution_count": null,
   "metadata": {},
   "outputs": [],
   "source": []
  }
 ],
 "metadata": {
  "kernelspec": {
   "display_name": "Python 3",
   "language": "python",
   "name": "python3"
  },
  "language_info": {
   "codemirror_mode": {
    "name": "ipython",
    "version": 3
   },
   "file_extension": ".py",
   "mimetype": "text/x-python",
   "name": "python",
   "nbconvert_exporter": "python",
   "pygments_lexer": "ipython3",
   "version": "3.7.6"
  }
 },
 "nbformat": 4,
 "nbformat_minor": 2
}
